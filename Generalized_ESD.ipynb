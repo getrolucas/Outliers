{
 "cells": [
  {
   "cell_type": "markdown",
   "metadata": {},
   "source": [
    "####  ESD (extreme Studentized deviate) Generalizado\n",
    "Referências Bibliográficas\n",
    "- National Institute of Standards and Technology (NIST), Engineering Statistics Handbook. \n",
    "\n",
    "    Disponível em: <http://www.itl.nist.gov/div898/handbook/eda/section3/eda35h3.htm>\n",
    "- Rosner, Bernard (May 1983), Percentage Points for a Generalized ESD Many-Outlier Procedure,Technometrics, 25(2), pp. 165-172. \n",
    "\n",
    "    Disponível em: <https://www.jstor.org/stable/1268549>"
   ]
  },
  {
   "cell_type": "code",
   "execution_count": 1,
   "metadata": {},
   "outputs": [],
   "source": [
    "# importando bibliotecas\n",
    "import numpy as np\n",
    "from PyAstronomy import pyasl"
   ]
  },
  {
   "cell_type": "code",
   "execution_count": 2,
   "metadata": {},
   "outputs": [],
   "source": [
    "# amostra proposta\n",
    "x = np.array([\n",
    "      -0.25,  0.68,  0.94,  1.15,  1.2 ,  1.26,  1.26,  1.34,  1.38,\n",
    "        1.43,  1.49,  1.49,  1.55,  1.56,  1.58,  1.65,  1.69,  1.7 ,\n",
    "        1.76,  1.77,  1.81,  1.91,  1.94,  1.96,  1.99,  2.06,  2.09,\n",
    "        2.1 ,  2.14,  2.15,  2.23,  2.24,  2.26,  2.35,  2.37,  2.4 ,\n",
    "        2.47,  2.54,  2.62,  2.64,  2.9 ,  2.92,  2.92,  2.93,  3.21,\n",
    "        3.26,  3.3 ,  3.59,  3.68,  4.3 ,  4.64,  5.34,  5.42,  6.01])"
   ]
  },
  {
   "cell_type": "code",
   "execution_count": 3,
   "metadata": {},
   "outputs": [],
   "source": [
    "# uso do modelo\n",
    "r = pyasl.generalizedESD(x, 10, 0.05, fullOutput=True, ubvar=True)"
   ]
  },
  {
   "cell_type": "code",
   "execution_count": 26,
   "metadata": {},
   "outputs": [
    {
     "name": "stdout",
     "output_type": "stream",
     "text": [
      "Qtd. Outliers:  3 \n",
      "\n",
      "      Test Stat.   Critical Val.\n",
      "1.0   3.118906     3.158794  \n",
      "2.0   2.942973     3.151430  \n",
      "3.0   3.179424     3.143890  \n",
      "4.0   2.810181     3.136165  \n",
      "5.0   2.815580     3.128247  \n",
      "6.0   2.848172     3.120128  \n",
      "7.0   2.279327     3.111796  \n",
      "8.0   2.310366     3.103243  \n",
      "9.0   2.101581     3.094456  \n",
      "10.0  2.067178     3.085425  \n"
     ]
    },
    {
     "data": {
      "image/png": "[encoded data removed]",
      "text/plain": [
       "<Figure size 640x480 with 1 Axes>"
      ]
     },
     "metadata": {},
     "output_type": "display_data"
    }
   ],
   "source": [
    "import matplotlib.pylab as plt\n",
    "\n",
    "df = np.column_stack((np.arange(1, 11),r[2], r[3]))\n",
    "\n",
    "print(\"Qtd. Outliers: \", r[0], \"\\n\")\n",
    "#print(\"Indices dos Outliers: \", r[1])\n",
    "print(\"      Test Stat.   Critical Val.\")\n",
    "\n",
    "for i in df:\n",
    "    print(\"{:<5} {:<12.6f} {:<10.6f}\".format(*i))\n",
    "\n",
    "# Plot dos dados\n",
    "plt.plot(x, 'g.')\n",
    "\n",
    "# marcando outliers\n",
    "for i in range(r[0]):\n",
    "    plt.plot(r[1][i], x[r[1][i]], 'rx')\n",
    "plt.show()"
   ]
  }
 ],
 "metadata": {
  "kernelspec": {
   "display_name": "Planejamento",
   "language": "python",
   "name": "python3"
  },
  "language_info": {
   "codemirror_mode": {
    "name": "ipython",
    "version": 3
   },
   "file_extension": ".py",
   "mimetype": "text/x-python",
   "name": "python",
   "nbconvert_exporter": "python",
   "pygments_lexer": "ipython3",
   "version": "3.9.18"
  }
 },
 "nbformat": 4,
 "nbformat_minor": 2
}

{
 "cells": [
  {
   "cell_type": "code",
   "execution_count": 23,
   "metadata": {},
   "outputs": [],
   "source": [
    "# importando bibliotecas\n",
    "import numpy as np\n",
    "from outliers. smirnov_grubbs import two_sided_test_outliers as grubbs\n",
    "from scipy import stats\n",
    "from typing import Tuple, Dict"
   ]
  },
  {
   "cell_type": "code",
   "execution_count": 63,
   "metadata": {},
   "outputs": [],
   "source": [
    "def limits(\n",
    "    Y : np.ndarray, \n",
    "    multiplier : float = 1.5\n",
    ") -> tuple[float, float]:\n",
    "    \n",
    "    q1 = np.quantile(Y, 0.25)\n",
    "    q3 = np.quantile(Y, 0.75)\n",
    "    iqr = q3 - q1\n",
    "    \n",
    "    inf = q1 - multiplier * iqr\n",
    "    sup = q3 + multiplier * iqr\n",
    "    \n",
    "    return inf, sup\n",
    "\n",
    "def outlier_test(\n",
    "    Y : np.ndarray, \n",
    "    inf : float,\n",
    "    sup : float,\n",
    "    significances : list = [0.5, 0.25]\n",
    ") -> Dict[str,np.ndarray]:\n",
    "    \n",
    "    # veja: https://www.itl.nist.gov/div898/handbook/eda/section3/eda35h1.htm\n",
    "    \n",
    "    '''\n",
    "    O teste de Grubbs é utilizado para detectar outliers em amostras que\n",
    "    segue distribuição aproximadamente normal:\n",
    "    \n",
    "    Aplicação do teste de Shapiro-Wilk para testar normalidade\n",
    "    da distribuição. (alpha = 0.05)\n",
    "    Se confirmada a H0, aplica-se o teste de Grubbs binomial.\n",
    "\n",
    "    Teste de normalidade da distribuição:\n",
    "    - H0 => A amostra é normal de valor p > alpha.\n",
    "    - H1 => A amostra não é normal de valor p < alpha\n",
    "    '''\n",
    "    \n",
    "    _, p = stats.shapiro(Y)\n",
    "    norm = dict()\n",
    "    out_values = dict()\n",
    "    \n",
    "    if p > 0.05:\n",
    "        for a in significances:\n",
    "            \n",
    "            outliers = grubbs(Y,alpha=a)\n",
    "            out_values[f'alpha_{a}'] = outliers\n",
    "            Yi = Y.copy()\n",
    "            for i, yi in enumerate(Yi):\n",
    "                if yi in outliers:\n",
    "                    if yi < inf:\n",
    "                        Yi[i] = inf\n",
    "                    else:\n",
    "                        Yi[i] = sup\n",
    "                        \n",
    "            norm[f'alpha_{a}'] = Yi\n",
    "            \n",
    "        return norm, out_values\n",
    "    \n",
    "    else:\n",
    "        print(\"A amostra não parece normal. Rejeitada a H0.\")\n",
    "        return None, None"
   ]
  },
  {
   "cell_type": "code",
   "execution_count": 50,
   "metadata": {},
   "outputs": [
    {
     "data": {
      "image/png": "[encoded data removed]",
      "text/plain": [
       "<Figure size 640x480 with 1 Axes>"
      ]
     },
     "metadata": {},
     "output_type": "display_data"
    }
   ],
   "source": [
    "# gerando amostra\n",
    "np.random.seed(0)\n",
    "m, s, N = 30, 15, 200\n",
    "x = np.random.normal(m, s, N)\n",
    "\n",
    "# plot from numpy docs\n",
    "# https://numpy.org/doc/stable/reference/random/generated/numpy.random.normal.\n",
    "\n",
    "import matplotlib.pyplot as plt\n",
    "\n",
    "count, bins, ignored = plt.hist(x, 30, density=True)\n",
    "plt.plot(bins, 1/(s * np.sqrt(2 * np.pi)) *\n",
    "               np.exp( - (bins - m)**2 / (2 * s**2) ),\n",
    "         linewidth=2, color='r')\n",
    "plt.show()"
   ]
  },
  {
   "cell_type": "code",
   "execution_count": 81,
   "metadata": {},
   "outputs": [
    {
     "name": "stdout",
     "output_type": "stream",
     "text": [
      "Outliers para alpha_0.5: [-25.0, 80.0]\n",
      "Outliers para alpha_0.25: [-25.0]\n"
     ]
    }
   ],
   "source": [
    "# adicionando outliers para teste\n",
    "x[0], x[1] = 80, -25\n",
    "\n",
    "# definindo limites e aplicando func\n",
    "inf, sup = limits(x)\n",
    "\n",
    "norm, outliers = outlier_test(x, inf, sup, [0.5, 0.25])\n",
    "\n",
    "# print resultados\n",
    "if outliers:\n",
    "    for alpha in outliers.keys():\n",
    "        print(f'Outliers para {alpha}: {outliers[alpha]}')"
   ]
  }
 ],
 "metadata": {
  "kernelspec": {
   "display_name": "Planejamento",
   "language": "python",
   "name": "python3"
  },
  "language_info": {
   "codemirror_mode": {
    "name": "ipython",
    "version": 3
   },
   "file_extension": ".py",
   "mimetype": "text/x-python",
   "name": "python",
   "nbconvert_exporter": "python",
   "pygments_lexer": "ipython3",
   "version": "3.9.18"
  }
 },
 "nbformat": 4,
 "nbformat_minor": 2
}
